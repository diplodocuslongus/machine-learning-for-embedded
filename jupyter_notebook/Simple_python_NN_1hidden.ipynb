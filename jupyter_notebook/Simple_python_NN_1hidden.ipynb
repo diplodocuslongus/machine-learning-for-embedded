{
 "cells": [
  {
   "cell_type": "markdown",
   "metadata": {},
   "source": [
    "# Simple NN in python with 1 hidden layer\n",
    "\n",
    "This NN model is a naive implementation of a Neural Network in Python and is going to be used to train and then compare and test with a few embedded platforms. The class code is taken from [here](https://github.com/llSourcell/Make_a_neural_network/blob/master/demo.py).\n",
    "\n",
    "## Prerequisites\n",
    "You need to install jupyter notebook for this example to run. The easiest way is to install miniconda and then use conda to install nupmy and jupyter."
   ]
  },
  {
   "cell_type": "code",
   "execution_count": 1,
   "metadata": {},
   "outputs": [],
   "source": [
    "import numpy as np"
   ]
  },
  {
   "cell_type": "code",
   "execution_count": 2,
   "metadata": {},
   "outputs": [],
   "source": [
    "class NeuralNetwork():\n",
    "    def __init__(self, training_set_inputs, training_set_outputs):\n",
    "        \n",
    "        self.input = training_set_inputs\n",
    "        self.y = training_set_outputs\n",
    "        \n",
    "        # Seed the random number generator, so it generates the same numbers\n",
    "        # every time the program runs.\n",
    "        np.random.seed(1)\n",
    "        # Create a 3-4-1 network\n",
    "        self.weights1   = np.random.rand(self.input.shape[1],32) \n",
    "        self.weights2   = np.random.rand(32,1)\n",
    "\n",
    "    # The Sigmoid function, which describes an S shaped curve.\n",
    "    # We pass the weighted sum of the inputs through this function to\n",
    "    # normalise them between 0 and 1.\n",
    "    def __sigmoid(self, x):\n",
    "        return 1 / (1 + np.exp(-x))\n",
    "\n",
    "    # The derivative of the Sigmoid function.\n",
    "    # This is the gradient of the Sigmoid curve.\n",
    "    # It indicates how confident we are about the existing weight.\n",
    "    def __sigmoid_derivative(self, x):\n",
    "        return x * (1 - x)\n",
    "\n",
    "    # We train the neural network through a process of trial and error.\n",
    "    # Adjusting the synaptic weights each time.\n",
    "    def train(self, training_set_inputs, training_set_outputs, number_of_training_iterations):\n",
    "        for iteration in range(number_of_training_iterations):\n",
    "            # Pass the training set through the hidden layer\n",
    "            output = self.__sigmoid(np.dot(training_set_inputs, self.weights1))\n",
    "            # 2nd layer\n",
    "            output2 = self.__sigmoid(np.dot(output, self.weights2))\n",
    "\n",
    "            # Calculate the error (The difference between the desired output\n",
    "            # and the predicted output).\n",
    "            error = training_set_outputs - output2\n",
    "\n",
    "            # Multiply the error by the input and again by the gradient of the Sigmoid curve.\n",
    "            # This means less confident weights are adjusted more.\n",
    "            # This means inputs, which are zero, do not cause changes to the weights.            \n",
    "            d_weights2 = np.dot(output.T, (2*(self.y - output2) * self.__sigmoid_derivative(output2)))\n",
    "            d_weights1 = np.dot(training_set_inputs.T,  (np.dot(2*(self.y - output2) * self.__sigmoid_derivative(output2), self.weights2.T) * self.__sigmoid_derivative(output)))\n",
    "\n",
    "            # Adjust the weights.\n",
    "            self.weights1 += d_weights1\n",
    "            self.weights2 += d_weights2\n",
    "\n",
    "    # The neural network predicts.\n",
    "    def predict(self, inputs):\n",
    "        output = self.__sigmoid(np.dot(inputs, self.weights1))\n",
    "        # 2nd layer\n",
    "        return self.__sigmoid(np.dot(output, self.weights2))\n"
   ]
  },
  {
   "cell_type": "markdown",
   "metadata": {},
   "source": [
    "## 1. Create a labeled train set with data and labels.\n",
    "\n",
    "Now we need to create our input data and then label them. In this case `label` just means the output, so we have two labels 0 and 1, or you can just think of these labels as binary outputs, in this case. The data are those on the next table:\n",
    "\n",
    "D2 | D1 | D0 | Label\n",
    "-|-|-|-\n",
    "0 | 0 | 1 | 0\n",
    "1 | 1 | 1 | 1\n",
    "1 | 0 | 1 | 1\n",
    "0 | 1 | 1 | 0\n",
    "\n",
    "In Python the above table is translated to those two arrays:"
   ]
  },
  {
   "cell_type": "code",
   "execution_count": 4,
   "metadata": {},
   "outputs": [],
   "source": [
    "training_set_inputs = np.array([[0, 0, 1], [1, 1, 1], [1, 0, 1], [0, 1, 1]])\n",
    "training_set_outputs = np.array([[0, 1, 1, 0]]).T"
   ]
  },
  {
   "cell_type": "markdown",
   "metadata": {},
   "source": [
    "## 2. Intialise a single neuron neural network\n",
    "\n",
    "First we need to create an `NeuralNetwork` object and initialize it. In this case initialization means that the weights will get a random value, but with using a constant seed, so the weights are re-producable per run."
   ]
  },
  {
   "cell_type": "code",
   "execution_count": 5,
   "metadata": {},
   "outputs": [],
   "source": [
    "neural_network = NeuralNetwork(training_set_inputs, training_set_outputs)"
   ]
  },
  {
   "cell_type": "code",
   "execution_count": 6,
   "metadata": {},
   "outputs": [
    {
     "name": "stdout",
     "output_type": "stream",
     "text": [
      "Random starting synaptic weights:\n",
      "[[4.17022005e-01 7.20324493e-01 1.14374817e-04 3.02332573e-01\n",
      "  1.46755891e-01 9.23385948e-02 1.86260211e-01 3.45560727e-01\n",
      "  3.96767474e-01 5.38816734e-01 4.19194514e-01 6.85219500e-01\n",
      "  2.04452250e-01 8.78117436e-01 2.73875932e-02 6.70467510e-01\n",
      "  4.17304802e-01 5.58689828e-01 1.40386939e-01 1.98101489e-01\n",
      "  8.00744569e-01 9.68261576e-01 3.13424178e-01 6.92322616e-01\n",
      "  8.76389152e-01 8.94606664e-01 8.50442114e-02 3.90547832e-02\n",
      "  1.69830420e-01 8.78142503e-01 9.83468338e-02 4.21107625e-01]\n",
      " [9.57889530e-01 5.33165285e-01 6.91877114e-01 3.15515631e-01\n",
      "  6.86500928e-01 8.34625672e-01 1.82882773e-02 7.50144315e-01\n",
      "  9.88861089e-01 7.48165654e-01 2.80443992e-01 7.89279328e-01\n",
      "  1.03226007e-01 4.47893526e-01 9.08595503e-01 2.93614148e-01\n",
      "  2.87775339e-01 1.30028572e-01 1.93669579e-02 6.78835533e-01\n",
      "  2.11628116e-01 2.65546659e-01 4.91573159e-01 5.33625451e-02\n",
      "  5.74117605e-01 1.46728575e-01 5.89305537e-01 6.99758360e-01\n",
      "  1.02334429e-01 4.14055988e-01 6.94400158e-01 4.14179270e-01]\n",
      " [4.99534589e-02 5.35896406e-01 6.63794645e-01 5.14889112e-01\n",
      "  9.44594756e-01 5.86555041e-01 9.03401915e-01 1.37474704e-01\n",
      "  1.39276347e-01 8.07391289e-01 3.97676837e-01 1.65354197e-01\n",
      "  9.27508580e-01 3.47765860e-01 7.50812103e-01 7.25997985e-01\n",
      "  8.83306091e-01 6.23672207e-01 7.50942434e-01 3.48898342e-01\n",
      "  2.69927892e-01 8.95886218e-01 4.28091190e-01 9.64840047e-01\n",
      "  6.63441498e-01 6.21695720e-01 1.14745973e-01 9.49489259e-01\n",
      "  4.49912133e-01 5.78389614e-01 4.08136803e-01 2.37026980e-01]]\n"
     ]
    }
   ],
   "source": [
    "print(\"Random starting synaptic weights:\")\n",
    "print(neural_network.weights1)"
   ]
  },
  {
   "cell_type": "markdown",
   "metadata": {},
   "source": [
    "## 3. Train the neural network. using a training set.\n",
    "\n",
    "Now using the above training set we can train our NN. To do that we can run it 10,000 times and make small adjustments each time."
   ]
  },
  {
   "cell_type": "code",
   "execution_count": 7,
   "metadata": {},
   "outputs": [
    {
     "name": "stdout",
     "output_type": "stream",
     "text": [
      "New weights_1 after training: \n",
      "\n",
      "[[ 1.54590308  1.07397985 -2.25466028  0.33811102 -1.12867717 -0.64943667\n",
      "   0.42986236 -0.02123101  1.39225761  0.51070309 -0.92220837  2.0741712\n",
      "  -0.05017488  2.49477885 -1.80706516  0.02225123  0.93510436  1.09748357\n",
      "  -1.78366068  0.48039307  2.11263888  1.80570217  0.64619332 -0.01244945\n",
      "   0.33251036  0.42452356 -1.68604411 -1.66573637  0.79887192  1.29312793\n",
      "  -0.43412689  1.48948002]\n",
      " [ 0.69719797  0.36646416  0.30634185  0.18639117  0.39957133  0.63840783\n",
      "  -0.13419254  0.63404142  0.74280831  0.64542963  0.09757257  0.43168644\n",
      "  -0.05348975  0.08756483  0.49330491  0.22541316  0.0984272  -0.03142329\n",
      "  -0.19527752  0.54879648 -0.00276267 -0.07486475  0.35662824 -0.01086095\n",
      "   0.58248215  0.12340923  0.36808708  0.31160506 -0.02433671  0.22188673\n",
      "   0.52353881  0.23293827]\n",
      " [-0.80204135 -0.06064239  0.75853612  0.14588782  0.7447778   0.36529958\n",
      "   0.44643259 -0.09007896 -0.68772053  0.46804819  0.3949623  -0.96859334\n",
      "   0.62717293 -1.02772198  0.61433208  0.71097663  0.20769972 -0.01264118\n",
      "   0.82569063 -0.10635089 -0.75973254 -0.30416315 -0.05711981  1.00074372\n",
      "   0.77874025  0.63730942  0.32783481  0.74344411 -0.09484307 -0.10335198\n",
      "   0.16261123 -0.54897172]]\n"
     ]
    }
   ],
   "source": [
    "neural_network.train(training_set_inputs, training_set_outputs, 10000)\n",
    "\n",
    "print(\"New weights_1 after training: \\n\")\n",
    "print(neural_network.weights1)"
   ]
  },
  {
   "cell_type": "code",
   "execution_count": 8,
   "metadata": {},
   "outputs": [
    {
     "name": "stdout",
     "output_type": "stream",
     "text": [
      "New weights_2 after training: \n",
      "\n",
      "[[ 1.49230844]\n",
      " [ 0.72051863]\n",
      " [-2.71804102]\n",
      " [ 0.03226573]\n",
      " [-1.50402732]\n",
      " [-0.91290899]\n",
      " [ 0.09985538]\n",
      " [-0.28420261]\n",
      " [ 1.31793525]\n",
      " [ 0.04681985]\n",
      " [-1.32379375]\n",
      " [ 2.0612959 ]\n",
      " [-0.42702707]\n",
      " [ 2.5197239 ]\n",
      " [-2.14410923]\n",
      " [-0.59546252]\n",
      " [ 0.63146443]\n",
      " [ 0.77656747]\n",
      " [-2.26835508]\n",
      " [ 0.27245133]\n",
      " [ 1.98377998]\n",
      " [ 1.54681141]\n",
      " [ 0.39326437]\n",
      " [-0.74995467]\n",
      " [-0.48852328]\n",
      " [-0.27687177]\n",
      " [-2.04979737]\n",
      " [-2.0214732 ]\n",
      " [ 0.56493531]\n",
      " [ 0.90879945]\n",
      " [-0.6690652 ]\n",
      " [ 1.34212305]]\n"
     ]
    }
   ],
   "source": [
    "print(\"New weights_2 after training: \\n\")\n",
    "print(neural_network.weights2)"
   ]
  },
  {
   "cell_type": "markdown",
   "metadata": {},
   "source": [
    "## 4. Test the trained model\n",
    "\n",
    "Now that we have a trained NN, we can test it by passing input data that it doesn't know about.\n"
   ]
  },
  {
   "cell_type": "code",
   "execution_count": 9,
   "metadata": {},
   "outputs": [],
   "source": [
    "# All possible inputs\n",
    "inputs = np.array([\n",
    "    [0,0,0],\n",
    "    [0,0,1],\n",
    "    [0,1,0],\n",
    "    [0,1,1],\n",
    "    [1,0,0],\n",
    "    [1,0,1],\n",
    "    [1,1,0],\n",
    "    [1,1,1]])"
   ]
  },
  {
   "cell_type": "code",
   "execution_count": 10,
   "metadata": {},
   "outputs": [
    {
     "name": "stdout",
     "output_type": "stream",
     "text": [
      "[0 0 0] = [0.29705808]\n",
      "[0 0 1] = [0.00288461]\n",
      "[0 1 0] = [0.24794368]\n",
      "[0 1 1] = [0.00253667]\n",
      "[1 0 0] = [0.99992702]\n",
      "[1 0 1] = [0.99790474]\n",
      "[1 1 0] = [0.99989151]\n",
      "[1 1 1] = [0.99714449]\n"
     ]
    }
   ],
   "source": [
    "for i in range(0, 8):\n",
    "    print(\"{} = {}\".format(inputs[i], neural_network.predict(inputs[i])))"
   ]
  },
  {
   "cell_type": "code",
   "execution_count": null,
   "metadata": {},
   "outputs": [],
   "source": [
    "\n",
    "\n",
    "\n",
    "\n",
    "\n",
    "\n",
    "\n"
   ]
  }
 ],
 "metadata": {
  "kernelspec": {
   "display_name": "Python 3 (ipykernel)",
   "language": "python",
   "name": "python3"
  },
  "language_info": {
   "codemirror_mode": {
    "name": "ipython",
    "version": 3
   },
   "file_extension": ".py",
   "mimetype": "text/x-python",
   "name": "python",
   "nbconvert_exporter": "python",
   "pygments_lexer": "ipython3",
   "version": "3.10.4"
  }
 },
 "nbformat": 4,
 "nbformat_minor": 2
}
